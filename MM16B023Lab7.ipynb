{
 "cells": [
  {
   "cell_type": "code",
   "execution_count": 1,
   "metadata": {
    "colab": {},
    "colab_type": "code",
    "id": "fOZfLkYstggM"
   },
   "outputs": [],
   "source": [
    "#Import the required libraries\n",
    "\n",
    "import tensorflow as tf\n",
    "import matplotlib.pyplot as plt"
   ]
  },
  {
   "cell_type": "code",
   "execution_count": 2,
   "metadata": {
    "colab": {},
    "colab_type": "code",
    "id": "uwUPbbwhtxHh"
   },
   "outputs": [],
   "source": [
    "#Load digit data set\n",
    "mnist = tf.keras.datasets.mnist\n",
    "\n",
    "#Generate test and train DATA SET\n",
    "(x_train,y_train),(x_test,y_test)=mnist.load_data()"
   ]
  },
  {
   "cell_type": "code",
   "execution_count": 3,
   "metadata": {
    "colab": {
     "base_uri": "https://localhost:8080/",
     "height": 265
    },
    "colab_type": "code",
    "id": "z0RWFWI-uckj",
    "outputId": "31b89c04-7d73-422c-ff88-94de05df3f8c"
   },
   "outputs": [
    {
     "data": {
      "image/png": "[encoded data removed]",
      "text/plain": [
       "<Figure size 432x288 with 1 Axes>"
      ]
     },
     "metadata": {
      "needs_background": "light"
     },
     "output_type": "display_data"
    }
   ],
   "source": [
    "#Example image \n",
    "plt.imshow(x_train[5])\n",
    "plt.show()"
   ]
  },
  {
   "cell_type": "code",
   "execution_count": 4,
   "metadata": {
    "colab": {},
    "colab_type": "code",
    "id": "yifAmrCAu7m5"
   },
   "outputs": [],
   "source": [
    "#PREPROCESSING: Normalizing pixel values\n",
    "\n",
    "x_train = tf.keras.utils.normalize(x_train, axis=1)\n",
    "x_test = tf.keras.utils.normalize(x_test, axis=1)"
   ]
  },
  {
   "cell_type": "code",
   "execution_count": 5,
   "metadata": {
    "colab": {},
    "colab_type": "code",
    "id": "i-0lHnGjvl_h"
   },
   "outputs": [],
   "source": [
    "#DL model\n",
    "model = tf.keras.models.Sequential()\n",
    "\n",
    "#Rollout (28*28 = 1*784)\n",
    "model.add(tf.keras.layers.Flatten())\n",
    "\n",
    "#Hidden layers H1_SIZE = 80 H2_SIZE = 80\n",
    "model.add(tf.keras.layers.Dense(80,activation=tf.nn.relu))\n",
    "model.add(tf.keras.layers.Dense(80,activation=tf.nn.relu))\n",
    "\n",
    "#Output layer\n",
    "model.add(tf.keras.layers.Dense(10,activation=tf.nn.softmax))"
   ]
  },
  {
   "cell_type": "markdown",
   "metadata": {},
   "source": [
    "### STOCHASTIC GRADIENT DESCENT (ACCURACY = 94.5%)"
   ]
  },
  {
   "cell_type": "code",
   "execution_count": 6,
   "metadata": {
    "colab": {},
    "colab_type": "code",
    "id": "qsU4KcXDxNX2"
   },
   "outputs": [
    {
     "name": "stdout",
     "output_type": "stream",
     "text": [
      "Epoch 1/10\n",
      "1875/1875 [==============================] - 2s 842us/step - loss: 1.1446 - accuracy: 0.7133\n",
      "Epoch 2/10\n",
      "1875/1875 [==============================] - 1s 787us/step - loss: 0.3960 - accuracy: 0.8886\n",
      "Epoch 3/10\n",
      "1875/1875 [==============================] - 1s 780us/step - loss: 0.3237 - accuracy: 0.9071\n",
      "Epoch 4/10\n",
      "1875/1875 [==============================] - 1s 794us/step - loss: 0.2888 - accuracy: 0.9172\n",
      "Epoch 5/10\n",
      "1875/1875 [==============================] - 2s 801us/step - loss: 0.2638 - accuracy: 0.9243\n",
      "Epoch 6/10\n",
      "1875/1875 [==============================] - 2s 879us/step - loss: 0.2440 - accuracy: 0.9298\n",
      "Epoch 7/10\n",
      "1875/1875 [==============================] - 2s 827us/step - loss: 0.2272 - accuracy: 0.9351\n",
      "Epoch 8/10\n",
      "1875/1875 [==============================] - 2s 976us/step - loss: 0.2128 - accuracy: 0.9386\n",
      "Epoch 9/10\n",
      "1875/1875 [==============================] - 2s 1ms/step - loss: 0.2005 - accuracy: 0.9421\n",
      "Epoch 10/10\n",
      "1875/1875 [==============================] - 2s 827us/step - loss: 0.1893 - accuracy: 0.9450\n"
     ]
    },
    {
     "data": {
      "text/plain": [
       "<tensorflow.python.keras.callbacks.History at 0x7f73e02be070>"
      ]
     },
     "execution_count": 6,
     "metadata": {},
     "output_type": "execute_result"
    }
   ],
   "source": [
    "model.compile(optimizer=\"sgd\", loss=\"sparse_categorical_crossentropy\", metrics=[\"accuracy\"])\n",
    "model.fit(x = x_train, y = y_train, epochs = 10)"
   ]
  },
  {
   "cell_type": "markdown",
   "metadata": {},
   "source": [
    "### ADAM OPTIMIZER (ACCURACY = 99.35%)"
   ]
  },
  {
   "cell_type": "code",
   "execution_count": 7,
   "metadata": {
    "colab": {},
    "colab_type": "code",
    "id": "LS42gV7k6zHx"
   },
   "outputs": [
    {
     "name": "stdout",
     "output_type": "stream",
     "text": [
      "Epoch 1/10\n",
      "1875/1875 [==============================] - 1s 773us/step - loss: 0.1645 - accuracy: 0.9505\n",
      "Epoch 2/10\n",
      "1875/1875 [==============================] - 2s 809us/step - loss: 0.1009 - accuracy: 0.9686\n",
      "Epoch 3/10\n",
      "1875/1875 [==============================] - 1s 799us/step - loss: 0.0736 - accuracy: 0.9769\n",
      "Epoch 4/10\n",
      "1875/1875 [==============================] - 1s 778us/step - loss: 0.0567 - accuracy: 0.9815\n",
      "Epoch 5/10\n",
      "1875/1875 [==============================] - 2s 807us/step - loss: 0.0451 - accuracy: 0.9849\n",
      "Epoch 6/10\n",
      "1875/1875 [==============================] - 1s 770us/step - loss: 0.0378 - accuracy: 0.9874\n",
      "Epoch 7/10\n",
      "1875/1875 [==============================] - 1s 786us/step - loss: 0.0303 - accuracy: 0.9899\n",
      "Epoch 8/10\n",
      "1875/1875 [==============================] - 1s 768us/step - loss: 0.0248 - accuracy: 0.9918\n",
      "Epoch 9/10\n",
      "1875/1875 [==============================] - 2s 807us/step - loss: 0.0222 - accuracy: 0.9925\n",
      "Epoch 10/10\n",
      "1875/1875 [==============================] - 1s 795us/step - loss: 0.0180 - accuracy: 0.9935\n"
     ]
    },
    {
     "data": {
      "text/plain": [
       "<tensorflow.python.keras.callbacks.History at 0x7f73983bb340>"
      ]
     },
     "execution_count": 7,
     "metadata": {},
     "output_type": "execute_result"
    }
   ],
   "source": [
    "model.compile(optimizer=\"adam\", loss=\"sparse_categorical_crossentropy\", metrics=[\"accuracy\"])\n",
    "model.fit(x = x_train, y = y_train, epochs = 10)"
   ]
  },
  {
   "cell_type": "code",
   "execution_count": 8,
   "metadata": {
    "colab": {
     "base_uri": "https://localhost:8080/",
     "height": 69
    },
    "colab_type": "code",
    "id": "IJLdzioux0c7",
    "outputId": "0db81e4f-6440-44ba-a822-9664f8d05d94"
   },
   "outputs": [
    {
     "name": "stdout",
     "output_type": "stream",
     "text": [
      "313/313 [==============================] - 0s 706us/step - loss: 0.1214 - accuracy: 0.9703\n",
      "\n",
      "TestSet accuracy(%): 97.0300018787384\n"
     ]
    }
   ],
   "source": [
    "#Performance on test set\n",
    "test_loss, test_accuracy = model.evaluate(x = x_test,y = y_test)\n",
    "print('\\nTestSet accuracy(%):',test_accuracy*100)"
   ]
  }
 ],
 "metadata": {
  "colab": {
   "collapsed_sections": [],
   "name": "LAB_7_ASSIGNMENT.ipynb",
   "provenance": []
  },
  "kernelspec": {
   "display_name": "Python 3",
   "language": "python",
   "name": "python3"
  },
  "language_info": {
   "codemirror_mode": {
    "name": "ipython",
    "version": 3
   },
   "file_extension": ".py",
   "mimetype": "text/x-python",
   "name": "python",
   "nbconvert_exporter": "python",
   "pygments_lexer": "ipython3",
   "version": "3.8.2"
  }
 },
 "nbformat": 4,
 "nbformat_minor": 1
}
